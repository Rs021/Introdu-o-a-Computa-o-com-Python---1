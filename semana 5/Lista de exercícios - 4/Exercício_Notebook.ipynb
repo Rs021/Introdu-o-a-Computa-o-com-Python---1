{
 "cells": [
  {
   "cell_type": "code",
   "execution_count": null,
   "metadata": {},
   "outputs": [],
   "source": [
    "def maximo(a,b):\n",
    "    return a if a > b else b\n",
    "\n",
    "\n"
   ]
  },
  {
   "cell_type": "code",
   "execution_count": null,
   "metadata": {},
   "outputs": [],
   "source": [
    "def is_prime(num):\n",
    "    if num < 2:\n",
    "        return False\n",
    "    for i in range(2, int(num**0.5) + 1):\n",
    "        if num % i == 0:\n",
    "            return False\n",
    "    return True\n",
    "\n",
    "def maior_primo(n):\n",
    "    while n > 1:\n",
    "        if is_prime(n):\n",
    "            return n\n",
    "        n -= 1\n",
    "\n"
   ]
  },
  {
   "cell_type": "code",
   "execution_count": null,
   "metadata": {},
   "outputs": [],
   "source": [
    "def vogal(n):\n",
    "    vogal = ['a','e','i','o','u', 'A', 'E', 'I', 'O', 'U']\n",
    "\n",
    "    for i in vogal:\n",
    "        if n == i:\n",
    "            return True\n",
    "    else:\n",
    "        return False\n",
    "    \n"
   ]
  },
  {
   "cell_type": "code",
   "execution_count": null,
   "metadata": {},
   "outputs": [],
   "source": [
    "def fizzbuzz(n):\n",
    "    if n % 3 == 0 and n % 5 != 0:\n",
    "        return \"Fizz\"\n",
    "    elif n % 5 == 0 and n % 3 != 0:\n",
    "        return \"Buzz\"\n",
    "    elif n % 3 == 0 and n % 5 == 0:\n",
    "        return 'FizzBuzz'\n",
    "    \n",
    "    return n\n",
    "\n",
    "\n"
   ]
  },
  {
   "cell_type": "code",
   "execution_count": 5,
   "metadata": {},
   "outputs": [
    {
     "data": {
      "text/plain": [
       "1"
      ]
     },
     "execution_count": 5,
     "metadata": {},
     "output_type": "execute_result"
    }
   ],
   "source": [
    "def maximo(a,b,c):\n",
    "\n",
    "    if a > b and a > c:\n",
    "        return a\n",
    "    if b > a and b > c:\n",
    "        return b\n",
    "    if c > b and c > a:\n",
    "        return c\n",
    "    \n"
   ]
  }
 ],
 "metadata": {
  "kernelspec": {
   "display_name": "Python 3",
   "language": "python",
   "name": "python3"
  },
  "language_info": {
   "codemirror_mode": {
    "name": "ipython",
    "version": 3
   },
   "file_extension": ".py",
   "mimetype": "text/x-python",
   "name": "python",
   "nbconvert_exporter": "python",
   "pygments_lexer": "ipython3",
   "version": "3.12.0"
  }
 },
 "nbformat": 4,
 "nbformat_minor": 2
}
