{
 "cells": [
  {
   "cell_type": "code",
   "execution_count": 156,
   "metadata": {},
   "outputs": [
    {
     "name": "stdout",
     "output_type": "stream",
     "text": [
      "Bem-vindo ao jogo do NIM! Escolha:\n",
      "1 - para jogar uma partida isolada\n",
      "2 - para jogar um campeonato\n",
      "**** Rodada 1 ****\n",
      "Computador começa!\n",
      "Voce tirou 1 peças.\n",
      "Agora resta apenas 0 peça no tabuleiro.\n"
     ]
    }
   ],
   "source": [
    "n_global = 0\n",
    "m_global = 0\n",
    "numero_rodada = 1\n",
    "\n",
    "def computador_escolhe_jogada():\n",
    "\n",
    "    m_retirar = int(input(\"Quantas peças você vai tirar?\"))\n",
    "    \n",
    "    print(f\"Voce tirou {m_retirar} peças.\")\n",
    "    print(f\"Agora resta apenas {m_global} peça no tabuleiro.\")\n",
    "\n",
    "\n",
    "def usuario_escolhe_jogada():\n",
    "\n",
    "    m_retirar = int(input(\"Quantas peças você vai tirar?\"))\n",
    "    \n",
    "    print(f\"Voce tirou {m_retirar} peças.\")\n",
    "    print(f\"Agora resta apenas {m_global} peça no tabuleiro.\")\n",
    "\n",
    "\n",
    "\n",
    "\n",
    "def partida():\n",
    "   \n",
    "    print(\"**** Rodada 1 ****\")\n",
    "    n_global = int(input(\"Quantas peças?\"))\n",
    "    m_global = int(input(\"Limite de peças por jogada?\"))\n",
    "    \n",
    "    if n_global % m_global + 1 == 0:\n",
    "        usuario_escolhe_jogada()\n",
    "        print(\"Jogador começa\")\n",
    "    else:\n",
    "        print(\"Computador começa!\")\n",
    "        computador_escolhe_jogada()\n",
    "\n",
    "\n",
    "\n",
    "def campeonato():\n",
    "    partida()\n",
    "    partida()\n",
    "    partida()\n",
    "    pass\n",
    "\n",
    "\n",
    "\n",
    "\n",
    "def main():\n",
    "\n",
    "    print(\"Bem-vindo ao jogo do NIM! Escolha:\")\n",
    "    print(\"1 - para jogar uma partida isolada\")\n",
    "    print(\"2 - para jogar um campeonato\")\n",
    "\n",
    "    \n",
    "   \n",
    "   \n",
    "    opt = int(input())\n",
    "\n",
    "    if opt == 1:\n",
    "        partida()\n",
    "        \n",
    "            \n",
    "    elif opt == 2:\n",
    "        campeonato()\n",
    "       \n",
    "    else:\n",
    "        print(\"Digite um numero partida valido\")\n",
    "    \n",
    "    \n",
    "\n",
    "\n",
    "if __name__ == \"__main__\":\n",
    "    main()"
   ]
  }
 ],
 "metadata": {
  "kernelspec": {
   "display_name": "Python 3",
   "language": "python",
   "name": "python3"
  },
  "language_info": {
   "codemirror_mode": {
    "name": "ipython",
    "version": 3
   },
   "file_extension": ".py",
   "mimetype": "text/x-python",
   "name": "python",
   "nbconvert_exporter": "python",
   "pygments_lexer": "ipython3",
   "version": "3.12.0"
  }
 },
 "nbformat": 4,
 "nbformat_minor": 2
}
