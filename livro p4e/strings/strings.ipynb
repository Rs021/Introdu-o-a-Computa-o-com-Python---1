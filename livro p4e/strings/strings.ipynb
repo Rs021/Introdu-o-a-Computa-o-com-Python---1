{
 "cells": [
  {
   "cell_type": "code",
   "execution_count": 379,
   "metadata": {},
   "outputs": [
    {
     "data": {
      "text/plain": [
       "'R-Qq-Aaa-Eeee-Zzzzz-Tttttt-Yyyyyyy'"
      ]
     },
     "execution_count": 379,
     "metadata": {},
     "output_type": "execute_result"
    }
   ],
   "source": [
    "def accum(s):\n",
    "    # your code\n",
    "    st = ''\n",
    "    \n",
    "    for i,k in enumerate(s):\n",
    "        st += k * (i+1) + '-'\n",
    "        \n",
    "    st = st[:len(st) - 1].capitalize()\n",
    "    \n",
    "    \n",
    "    for pos, char in enumerate(st):\n",
    "        if char == '-':\n",
    "            st = st.replace(st[pos+1], st[pos+1].upper(),1)\n",
    "\n",
    "            \n",
    "        \n",
    "    return st\n",
    "\n"
   ]
  },
  {
   "cell_type": "code",
   "execution_count": null,
   "metadata": {},
   "outputs": [],
   "source": []
  }
 ],
 "metadata": {
  "kernelspec": {
   "display_name": "Python 3",
   "language": "python",
   "name": "python3"
  },
  "language_info": {
   "codemirror_mode": {
    "name": "ipython",
    "version": 3
   },
   "file_extension": ".py",
   "mimetype": "text/x-python",
   "name": "python",
   "nbconvert_exporter": "python",
   "pygments_lexer": "ipython3",
   "version": "3.11.5"
  }
 },
 "nbformat": 4,
 "nbformat_minor": 2
}
